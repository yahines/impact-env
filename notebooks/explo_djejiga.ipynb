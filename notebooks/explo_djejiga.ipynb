{
 "cells": [
  {
   "cell_type": "markdown",
   "id": "47c7d41a",
   "metadata": {},
   "source": [
    "## Ajout automatique de sous catégorie non finalisé"
   ]
  },
  {
   "cell_type": "code",
   "execution_count": 93,
   "id": "a0132a6b",
   "metadata": {},
   "outputs": [
    {
     "name": "stdout",
     "output_type": "stream",
     "text": [
      "   Code CIQUAL                        Groupe d'aliment Sous-groupe d'aliment  \\\n",
      "0        11172  aides culinaires et ingrédients divers      aides culinaires   \n",
      "1        25525  aides culinaires et ingrédients divers      aides culinaires   \n",
      "2        11214  aides culinaires et ingrédients divers      aides culinaires   \n",
      "3        11084  aides culinaires et ingrédients divers                algues   \n",
      "4        20995  aides culinaires et ingrédients divers                algues   \n",
      "\n",
      "                          Nom du Produit en Français  code saison  code avion  \\\n",
      "0           Court-bouillon pour poissons, déshydraté            2           0   \n",
      "1                        Pizza, sauce garniture pour            2           0   \n",
      "2  Préparation culinaire à base de soja, type \"cr...            2           0   \n",
      "3                                  Agar (algue), cru            2           0   \n",
      "4  Ao-nori (Enteromorpha sp.), séchée ou déshydratée            2           0   \n",
      "\n",
      "        Livraison Approche emballage          Préparation   DQR  ...  \\\n",
      "0  Ambiant (long)          PACK PROXY  Pas de préparation  2.24  ...   \n",
      "1  Ambiant (long)          PACK PROXY  Pas de préparation  2.19  ...   \n",
      "2  Ambiant (long)          PACK PROXY  Pas de préparation  1.75  ...   \n",
      "3  Ambiant (long)          PACK PROXY  Pas de préparation  2.77  ...   \n",
      "4  Ambiant (long)          PACK PROXY  Pas de préparation  2.77  ...   \n",
      "\n",
      "   Épuisement des ressources minéraux  \\\n",
      "0                            0.000051   \n",
      "1                            0.000006   \n",
      "2                            0.000004   \n",
      "3                            0.000079   \n",
      "4                            0.000079   \n",
      "\n",
      "   Changement climatique - émissions biogéniques  \\\n",
      "0                                         0.1040   \n",
      "1                                         0.0336   \n",
      "2                                         0.0252   \n",
      "3                                         0.0401   \n",
      "4                                         0.0401   \n",
      "\n",
      "   Changement climatique - émissions fossiles  \\\n",
      "0                                       7.460   \n",
      "1                                       1.020   \n",
      "2                                       0.965   \n",
      "3                                      11.700   \n",
      "4                                      11.700   \n",
      "\n",
      "   Changement climatique - émissions liées au changement d'affectation des sols  \\\n",
      "0                                            0.02120                              \n",
      "1                                           -0.10800                              \n",
      "2                                            0.18400                              \n",
      "3                                            0.00655                              \n",
      "4                                            0.00655                              \n",
      "\n",
      "   Sous-sous-groupe d'aliment  Energie (kcal/100 g)  Protéines (g/100 g)  \\\n",
      "0                           -                 260.0                 5.00   \n",
      "1                           -                  38.5                 2.12   \n",
      "2                           -                   NaN                 3.25   \n",
      "3                           -                   NaN                 0.54   \n",
      "4                           -                 224.0                13.70   \n",
      "\n",
      "   Glucides (g/100 g)  Lipides (g/100 g)  Fibres alimentaires (g/100 g)  \n",
      "0                7.00              23.00                           2.50  \n",
      "1                3.20               0.73                           4.17  \n",
      "2                2.03              14.70                            NaN  \n",
      "3                6.25               0.03                           0.50  \n",
      "4               18.80               2.47                          36.00  \n",
      "\n",
      "[5 rows x 36 columns]\n"
     ]
    }
   ],
   "source": [
    "# recuperer csv data/AGB_CIQUAL_food_products.csv\n",
    "import pandas as pd\n",
    "import os\n",
    "\n",
    "    # Define the path to the CSV file\n",
    "df = pd.read_csv('../data/AGB_CIQUAL_food_products.csv')\n",
    "      \n",
    "    # Display the first few rows of the DataFrame\n",
    "print(df.head())"
   ]
  },
  {
   "cell_type": "markdown",
   "id": "850a4506",
   "metadata": {},
   "source": [
    "# 1. Ajout des colonnes sous categorie du groupe Viande, poisson, oeuf\n"
   ]
  },
  {
   "cell_type": "code",
   "execution_count": 94,
   "id": "65925191",
   "metadata": {},
   "outputs": [
    {
     "name": "stdout",
     "output_type": "stream",
     "text": [
      "<class 'pandas.core.frame.DataFrame'>\n",
      "RangeIndex: 2420 entries, 0 to 2419\n",
      "Data columns (total 36 columns):\n",
      " #   Column                                                                        Non-Null Count  Dtype  \n",
      "---  ------                                                                        --------------  -----  \n",
      " 0   Code CIQUAL                                                                   2420 non-null   int64  \n",
      " 1   Groupe d'aliment                                                              2420 non-null   object \n",
      " 2   Sous-groupe d'aliment                                                         2420 non-null   object \n",
      " 3   Nom du Produit en Français                                                    2420 non-null   object \n",
      " 4   code saison                                                                   2420 non-null   int64  \n",
      " 5   code avion                                                                    2420 non-null   int64  \n",
      " 6   Livraison                                                                     2420 non-null   object \n",
      " 7   Approche emballage                                                            2420 non-null   object \n",
      " 8   Préparation                                                                   2420 non-null   object \n",
      " 9   DQR                                                                           2420 non-null   float64\n",
      " 10  Score unique EF                                                               2420 non-null   float64\n",
      " 11  Changement climatique                                                         2420 non-null   float64\n",
      " 12  Appauvrissement de la couche d'ozone                                          2420 non-null   float64\n",
      " 13  Rayonnements ionisants                                                        2420 non-null   float64\n",
      " 14  Formation photochimique d'ozone                                               2420 non-null   float64\n",
      " 15  Particules fines                                                              2420 non-null   float64\n",
      " 16  Effets toxicologiques sur la santé humaine : substances non-cancérogènes      2420 non-null   float64\n",
      " 17  Effets toxicologiques sur la santé humaine : substances cancérogènes          2420 non-null   float64\n",
      " 18  Acidification terrestre et eaux douces                                        2420 non-null   float64\n",
      " 19  Eutrophisation eaux douces                                                    2420 non-null   float64\n",
      " 20  Eutrophisation marine                                                         2420 non-null   float64\n",
      " 21  Eutrophisation terrestre                                                      2420 non-null   float64\n",
      " 22  Écotoxicité pour écosystèmes aquatiques d'eau douce                           2420 non-null   float64\n",
      " 23  Utilisation du sol                                                            2420 non-null   float64\n",
      " 24  Épuisement des ressources eau                                                 2420 non-null   float64\n",
      " 25  Épuisement des ressources énergétiques                                        2420 non-null   float64\n",
      " 26  Épuisement des ressources minéraux                                            2420 non-null   float64\n",
      " 27  Changement climatique - émissions biogéniques                                 2420 non-null   float64\n",
      " 28  Changement climatique - émissions fossiles                                    2420 non-null   float64\n",
      " 29  Changement climatique - émissions liées au changement d'affectation des sols  2420 non-null   float64\n",
      " 30  Sous-sous-groupe d'aliment                                                    2380 non-null   object \n",
      " 31  Energie (kcal/100 g)                                                          1792 non-null   float64\n",
      " 32  Protéines (g/100 g)                                                           2368 non-null   float64\n",
      " 33  Glucides (g/100 g)                                                            2104 non-null   float64\n",
      " 34  Lipides (g/100 g)                                                             2324 non-null   float64\n",
      " 35  Fibres alimentaires (g/100 g)                                                 2257 non-null   float64\n",
      "dtypes: float64(26), int64(3), object(7)\n",
      "memory usage: 680.8+ KB\n"
     ]
    }
   ],
   "source": [
    "df.info()\n"
   ]
  },
  {
   "cell_type": "code",
   "execution_count": 95,
   "id": "b6a328ff",
   "metadata": {},
   "outputs": [
    {
     "data": {
      "text/plain": [
       "(2420, 4)"
      ]
     },
     "execution_count": 95,
     "metadata": {},
     "output_type": "execute_result"
    }
   ],
   "source": [
    "df = df[[\n",
    "    \"Code CIQUAL\",\n",
    "    \"Groupe d'aliment\",\n",
    "    \"Sous-groupe d'aliment\",\n",
    "    \"Nom du Produit en Français\"\n",
    "]]\n",
    "df.shape"
   ]
  },
  {
   "cell_type": "code",
   "execution_count": 96,
   "id": "d93dc00c",
   "metadata": {},
   "outputs": [],
   "source": [
    "# Créer colonne sous catégorie à partir de non du produit du grp viand, oeufs, poisson\n",
    "def detecter_sous_groupe(nom):\n",
    "    nom = str(nom).lower()\n",
    "\n",
    "    if nom.startswith(\"oeuf\") or nom.startswith(\"œuf\") or nom.__contains__(\"omelette\"):\n",
    "        return \"oeuf\"\n",
    "    elif any(x in nom for x in [\"boeuf\", \"bœuf\", \"veau\", \"agneau\", \"mouton\", \"porc\", \"volaille\", \"génisse\", \"poulet\", \"dinde\", \"canard\", \"jambon\", \"rillette\",\"saucisse\", \"charcuterie\", \"chevreau\", \"foie\", \"génisse\", \"merguez\",\"bresaola\", \"coppa\", \"pancetta\", \"andouille\"]):\n",
    "        return \"viande\"\n",
    "    else:\n",
    "        return \"poisson\""
   ]
  },
  {
   "cell_type": "code",
   "execution_count": 97,
   "id": "971c1dd4",
   "metadata": {},
   "outputs": [],
   "source": [
    "df[\"sous categorie VOP\"] = df.apply(\n",
    "    lambda row: detecter_sous_groupe(row[\"Nom du Produit en Français\"]) if row[\"Groupe d'aliment\"] == \"viandes, œufs, poissons\" \n",
    "                                                                        else \"\", axis=1)"
   ]
  },
  {
   "cell_type": "code",
   "execution_count": 98,
   "id": "d76260bb",
   "metadata": {},
   "outputs": [
    {
     "data": {
      "text/plain": [
       "           1774\n",
       "viande      350\n",
       "poisson     275\n",
       "oeuf         21\n",
       "Name: sous categorie VOP, dtype: int64"
      ]
     },
     "execution_count": 98,
     "metadata": {},
     "output_type": "execute_result"
    }
   ],
   "source": [
    "df[\"sous categorie VOP\"].value_counts()\n"
   ]
  },
  {
   "cell_type": "code",
   "execution_count": 99,
   "id": "bd074a36",
   "metadata": {},
   "outputs": [
    {
     "data": {
      "text/plain": [
       "viandes, œufs, poissons                        646\n",
       "fruits, légumes, légumineuses et oléagineux    417\n",
       "produits céréaliers                            372\n",
       "entrées et plats composés                      302\n",
       "lait et produits laitiers                      222\n",
       "aides culinaires et ingrédients divers         157\n",
       "boissons                                       136\n",
       "matières grasses                                57\n",
       "produits sucrés                                 53\n",
       "aliments infantiles                             33\n",
       "glaces et sorbets                               25\n",
       "Name: Groupe d'aliment, dtype: int64"
      ]
     },
     "execution_count": 99,
     "metadata": {},
     "output_type": "execute_result"
    }
   ],
   "source": [
    "df[\"Groupe d'aliment\"].value_counts()"
   ]
  },
  {
   "cell_type": "markdown",
   "id": "910e530f",
   "metadata": {},
   "source": [
    "# 2. Création de dataset calcul aggrégations "
   ]
  },
  {
   "cell_type": "code",
   "execution_count": 100,
   "id": "2f462d51",
   "metadata": {},
   "outputs": [
    {
     "data": {
      "text/plain": [
       "654"
      ]
     },
     "execution_count": 100,
     "metadata": {},
     "output_type": "execute_result"
    }
   ],
   "source": [
    "409+224+21\n"
   ]
  }
 ],
 "metadata": {
  "kernelspec": {
   "display_name": "Artefact",
   "language": "python",
   "name": "python3"
  },
  "language_info": {
   "codemirror_mode": {
    "name": "ipython",
    "version": 3
   },
   "file_extension": ".py",
   "mimetype": "text/x-python",
   "name": "python",
   "nbconvert_exporter": "python",
   "pygments_lexer": "ipython3",
   "version": "3.10.12"
  }
 },
 "nbformat": 4,
 "nbformat_minor": 5
}
