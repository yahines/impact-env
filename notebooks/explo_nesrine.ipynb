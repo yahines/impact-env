{
 "cells": [
  {
   "cell_type": "markdown",
   "id": "08e188c6",
   "metadata": {},
   "source": [
    "exploration of agribalyse produits alimentaires dataset "
   ]
  },
  {
   "cell_type": "code",
   "execution_count": 2,
   "id": "e866c4ca",
   "metadata": {},
   "outputs": [],
   "source": [
    "import pandas as pd\n",
    "import numpy as np\n",
    "import os"
   ]
  },
  {
   "cell_type": "code",
   "execution_count": null,
   "id": "68df6433",
   "metadata": {},
   "outputs": [],
   "source": [
    "# load csv agribalyse\n",
    "agribalyse_path = os.path.join(\"..\", \"data\", \"agribalyse.csv\")\n",
    "\n",
    "food_products1 = pd.read_csv(agribalyse_path, sep=';')\n",
    "food_products1.head(10)"
   ]
  },
  {
   "cell_type": "code",
   "execution_count": null,
   "id": "04346410",
   "metadata": {},
   "outputs": [],
   "source": [
    "# Check for values types\n",
    "food_products1.dtypes\n",
    "# TODO verify/modify types colonne to string/int\n",
    "\n",
    "food_products1.info()\n",
    "# Check for missing values\n",
    "food_products1.isnull().sum()"
   ]
  },
  {
   "cell_type": "code",
   "execution_count": null,
   "id": "956b51bb",
   "metadata": {},
   "outputs": [],
   "source": [
    "# Check for duplicates\n",
    "food_products1.duplicated().sum()\n",
    "food_products1.columns\n",
    "# TODO verifier lunicite des codes AGB/Ciqual\n",
    "# TODO comparer les codes AGB/Ciqual\n",
    "# TODO renommer les colonnes\n",
    "food_products1.rename(columns={\n",
    "    \"Code AGB\": \"code_agb\",\n",
    "    \"Code Ciqual\": \"code_ciqua\",\n",
    "    \"Nom AGB\": \"name_agb\",\n",
    "    \"Nom Ciqual\": \"name_ciqua\",\n",
    "    \"Groupe AGB\": \"group_agb\",\n",
    "    \"Groupe Ciqual\": \"group_ciqua\",\n",
    "    \"Unité AGB\": \"unit_agb\",\n",
    "    \"Unité Ciqual\": \"unit_ciqua\",\n",
    "}, inplace=True)"
   ]
  },
  {
   "cell_type": "code",
   "execution_count": null,
   "id": "f4eff544",
   "metadata": {},
   "outputs": [],
   "source": [
    "# supprimer les colonnes \n",
    "food_products1.drop(columns=[\"LCI Name\"], inplace=True)"
   ]
  },
  {
   "cell_type": "code",
   "execution_count": null,
   "id": "412aff8a",
   "metadata": {},
   "outputs": [],
   "source": [
    "# tableau ciqual\n",
    "ciqual_path = os.path.join(\"..\", \"data\", \"Table_Ciqual.csv\")\n",
    "food_products2 = pd.read_csv(ciqual_path)\n",
    "food_products2.dtypes\n",
    "food_products2.info()"
   ]
  },
  {
   "cell_type": "code",
   "execution_count": null,
   "id": "5e079d9d",
   "metadata": {},
   "outputs": [
    {
     "data": {
      "text/plain": [
       "0"
      ]
     },
     "execution_count": 18,
     "metadata": {},
     "output_type": "execute_result"
    }
   ],
   "source": [
    "# Check for duplicates\n",
    "food_products2.duplicated().sum()\n",
    "#Remove duplicates\n",
    "# food_products2 = food_products2.drop_duplicates()"
   ]
  },
  {
   "cell_type": "code",
   "execution_count": null,
   "id": "b5b56fc7",
   "metadata": {},
   "outputs": [],
   "source": [
    "# TODO comparer alim_code (AGB code/Ciqual code)"
   ]
  },
  {
   "cell_type": "code",
   "execution_count": null,
   "id": "412f544e",
   "metadata": {},
   "outputs": [],
   "source": [
    "pd.set_option('display.max_rows', None)\n",
    "food_products2.info()\n",
    "food_products2.isnull().sum()\n",
    "food_products2.columns\n",
    "food_products2.shape"
   ]
  },
  {
   "cell_type": "code",
   "execution_count": null,
   "id": "39e3f1b7",
   "metadata": {},
   "outputs": [],
   "source": [
    "favorite_column = [ 'alim_code',\n",
    "                    'Energie, Règlement UE N° 1169/2011 (kcal/100 g)',\n",
    "                    'Protéines, N x 6.25 (g/100 g)', 'Glucides (g/100 g)',\n",
    "                    'Lipides (g/100 g)', 'Fibres alimentaires (g/100 g)']"
   ]
  },
  {
   "cell_type": "code",
   "execution_count": null,
   "id": "43176229",
   "metadata": {},
   "outputs": [],
   "source": [
    "# Select relevant columns\n",
    "food_products2 = food_products2[favorite_column]\n",
    "# TODO verify types colommes"
   ]
  },
  {
   "cell_type": "code",
   "execution_count": null,
   "id": "b37ae5c0",
   "metadata": {},
   "outputs": [],
   "source": [
    "food_products2.isnull().sum()"
   ]
  },
  {
   "cell_type": "code",
   "execution_count": null,
   "id": "53d90857",
   "metadata": {},
   "outputs": [],
   "source": [
    "# Merge the two dataframes on the code ciqual column \n",
    "merged_products = pd.merge(food_products1, \n",
    "                           food_products2, \n",
    "                           left_on=\"Code CIQUAL\", \n",
    "                           # left_on=\"Code AGB\", \n",
    "                           right_on=\"alim_code\",\n",
    "                           how='inner')"
   ]
  },
  {
   "cell_type": "code",
   "execution_count": null,
   "id": "9c86b076",
   "metadata": {},
   "outputs": [],
   "source": [
    "food_products1[\"Nom du Produit en Français\"].info(), merged_products.shape"
   ]
  },
  {
   "cell_type": "code",
   "execution_count": null,
   "id": "a4c3622c",
   "metadata": {},
   "outputs": [],
   "source": [
    "merged_products.isnull().sum()"
   ]
  },
  {
   "cell_type": "code",
   "execution_count": null,
   "id": "c5c7a259",
   "metadata": {},
   "outputs": [],
   "source": [
    "merged_products.head(10)\n",
    "# TODO supprimer la lignes vides"
   ]
  },
  {
   "cell_type": "code",
   "execution_count": null,
   "id": "542f8543",
   "metadata": {},
   "outputs": [],
   "source": [
    "# Save the merged dataframe to a new CSV file\n",
    "output_path = os.path.join(\"..\", \"data\", \"merged_food_products.csv\")\n",
    "merged_products.to_csv(output_path, index=False)\n",
    "print(f\"Merged data saved to {output_path}\")"
   ]
  }
 ],
 "metadata": {
  "kernelspec": {
   "display_name": "Artefact",
   "language": "python",
   "name": "python3"
  },
  "language_info": {
   "codemirror_mode": {
    "name": "ipython",
    "version": 3
   },
   "file_extension": ".py",
   "mimetype": "text/x-python",
   "name": "python",
   "nbconvert_exporter": "python",
   "pygments_lexer": "ipython3",
   "version": "3.10.12"
  }
 },
 "nbformat": 4,
 "nbformat_minor": 5
}
