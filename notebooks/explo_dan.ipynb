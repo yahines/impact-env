{
 "cells": [
  {
   "cell_type": "code",
   "execution_count": null,
   "id": "c30c177f",
   "metadata": {},
   "outputs": [],
   "source": [
    "# recuperer csv data/AGB_CIQUAL_food_products.csv et 2 colonnes de catégories\n",
    "import pandas as pd\n",
    "import os\n",
    "\n",
    "    # Define the path to the CSV file\n",
    "df = pd.read_csv('../data/AGB_CIQUAL_food_products.csv')\n",
    "      \n",
    "    # Display the first few rows of the DataFrame\n",
    "print(df.head())"
   ]
  }
 ],
 "metadata": {
  "language_info": {
   "name": "python"
  }
 },
 "nbformat": 4,
 "nbformat_minor": 5
}
